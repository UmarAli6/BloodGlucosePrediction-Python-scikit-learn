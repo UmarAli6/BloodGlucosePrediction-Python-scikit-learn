{
 "cells": [
  {
   "cell_type": "markdown",
   "id": "dac6275f",
   "metadata": {},
   "source": [
    "# Programmatic Assignment 1: Blood Glucose Prediction - Umar Ali"
   ]
  },
  {
   "cell_type": "markdown",
   "id": "94e6627a",
   "metadata": {},
   "source": [
    "### Data Cleaning"
   ]
  },
  {
   "attachments": {
    "image.png": {
     "image/png": "[encoded data removed]"
    }
   },
   "cell_type": "markdown",
   "id": "f700b489",
   "metadata": {},
   "source": [
    "We start by combining the data to one single file to be able to clean it. The cleaning process is done in excel. As we can see below, the data contains some invalid data (see most right column)\n",
    "![image.png](attachment:image.png)"
   ]
  },
  {
   "cell_type": "markdown",
   "id": "3ca8173e",
   "metadata": {},
   "source": [
    "We go column by column and use the filter function in excel to delete rows with invalid data.\n",
    "\n",
    "For the time column, every row where the time does not conform to the xx:xx format are deleted.\n",
    "\n",
    "For the code (activity) column, we delete all rows where the code does not match the dataset description (0, 4, ...)\n",
    "\n",
    "For the value column, all rows not containing a number are deleted.\n",
    "\n",
    "We lastly delete all rows that contain missing data in a column.\n",
    "\n",
    "In the end, we have a file which contains no empty coloumns, invalid times, codes or values. "
   ]
  },
  {
   "cell_type": "code",
   "execution_count": 35,
   "id": "c2bce774",
   "metadata": {},
   "outputs": [],
   "source": [
    "import numpy as np\n",
    "import pandas as pd \n",
    "import sklearn as sk\n",
    "from sklearn.model_selection import train_test_split\n",
    "from sklearn.linear_model import LinearRegression\n",
    "from sklearn.ensemble import RandomForestRegressor\n",
    "from sklearn.neighbors import KNeighborsRegressor\n",
    "from sklearn.tree import DecisionTreeRegressor\n",
    "from sklearn import svm"
   ]
  },
  {
   "cell_type": "markdown",
   "id": "2dddafac",
   "metadata": {},
   "source": [
    "We load in the data and make an copy of it."
   ]
  },
  {
   "cell_type": "code",
   "execution_count": 2,
   "id": "5e554df3",
   "metadata": {},
   "outputs": [],
   "source": [
    "diabetes_ori = pd.read_csv(\"filteredData/data_filtered.txt\", sep='\\t')"
   ]
  },
  {
   "cell_type": "code",
   "execution_count": 3,
   "id": "ef219b4d",
   "metadata": {},
   "outputs": [],
   "source": [
    "diabetes = diabetes_ori.copy()"
   ]
  },
  {
   "cell_type": "code",
   "execution_count": 4,
   "id": "2ee2b6e1",
   "metadata": {},
   "outputs": [
    {
     "data": {
      "text/html": [
       "<div>\n",
       "<style scoped>\n",
       "    .dataframe tbody tr th:only-of-type {\n",
       "        vertical-align: middle;\n",
       "    }\n",
       "\n",
       "    .dataframe tbody tr th {\n",
       "        vertical-align: top;\n",
       "    }\n",
       "\n",
       "    .dataframe thead th {\n",
       "        text-align: right;\n",
       "    }\n",
       "</style>\n",
       "<table border=\"1\" class=\"dataframe\">\n",
       "  <thead>\n",
       "    <tr style=\"text-align: right;\">\n",
       "      <th></th>\n",
       "      <th>date</th>\n",
       "      <th>time</th>\n",
       "      <th>code</th>\n",
       "      <th>value</th>\n",
       "    </tr>\n",
       "  </thead>\n",
       "  <tbody>\n",
       "    <tr>\n",
       "      <th>0</th>\n",
       "      <td>04-21-1991</td>\n",
       "      <td>9.09</td>\n",
       "      <td>58</td>\n",
       "      <td>100</td>\n",
       "    </tr>\n",
       "    <tr>\n",
       "      <th>1</th>\n",
       "      <td>04-21-1991</td>\n",
       "      <td>9.09</td>\n",
       "      <td>33</td>\n",
       "      <td>9</td>\n",
       "    </tr>\n",
       "    <tr>\n",
       "      <th>2</th>\n",
       "      <td>04-21-1991</td>\n",
       "      <td>9.09</td>\n",
       "      <td>34</td>\n",
       "      <td>13</td>\n",
       "    </tr>\n",
       "    <tr>\n",
       "      <th>3</th>\n",
       "      <td>04-21-1991</td>\n",
       "      <td>17.08</td>\n",
       "      <td>62</td>\n",
       "      <td>119</td>\n",
       "    </tr>\n",
       "    <tr>\n",
       "      <th>4</th>\n",
       "      <td>04-21-1991</td>\n",
       "      <td>17.08</td>\n",
       "      <td>33</td>\n",
       "      <td>7</td>\n",
       "    </tr>\n",
       "  </tbody>\n",
       "</table>\n",
       "</div>"
      ],
      "text/plain": [
       "         date   time  code  value\n",
       "0  04-21-1991   9.09    58    100\n",
       "1  04-21-1991   9.09    33      9\n",
       "2  04-21-1991   9.09    34     13\n",
       "3  04-21-1991  17.08    62    119\n",
       "4  04-21-1991  17.08    33      7"
      ]
     },
     "execution_count": 4,
     "metadata": {},
     "output_type": "execute_result"
    }
   ],
   "source": [
    "diabetes.head()"
   ]
  },
  {
   "cell_type": "markdown",
   "id": "650c848a",
   "metadata": {},
   "source": [
    "Here we can see that the total number of rows are 29069. Before the data cleaning, the total number of rows where 29330. We therefore have deleted 261 rows, about 0.89 %."
   ]
  },
  {
   "cell_type": "code",
   "execution_count": 5,
   "id": "9d95fb58",
   "metadata": {},
   "outputs": [
    {
     "name": "stdout",
     "output_type": "stream",
     "text": [
      "<class 'pandas.core.frame.DataFrame'>\n",
      "RangeIndex: 29069 entries, 0 to 29068\n",
      "Data columns (total 4 columns):\n",
      " #   Column  Non-Null Count  Dtype  \n",
      "---  ------  --------------  -----  \n",
      " 0   date    29069 non-null  object \n",
      " 1   time    29069 non-null  float64\n",
      " 2   code    29069 non-null  int64  \n",
      " 3   value   29069 non-null  int64  \n",
      "dtypes: float64(1), int64(2), object(1)\n",
      "memory usage: 908.5+ KB\n"
     ]
    }
   ],
   "source": [
    "diabetes.info()"
   ]
  },
  {
   "cell_type": "markdown",
   "id": "dd0b32e8",
   "metadata": {},
   "source": [
    "To double check, we check if we have any rows with missing values."
   ]
  },
  {
   "cell_type": "code",
   "execution_count": 6,
   "id": "75993377",
   "metadata": {},
   "outputs": [
    {
     "name": "stdout",
     "output_type": "stream",
     "text": [
      "no missing values left\n"
     ]
    }
   ],
   "source": [
    "def missing_cols(df):\n",
    "    '''prints out columns with its amount of missing values'''\n",
    "    total = 0\n",
    "    for col in df.columns:\n",
    "        missing_vals = df[col].isnull().sum()\n",
    "        total += missing_vals\n",
    "        if missing_vals != 0:\n",
    "            print(f\"{col} => {df[col].isnull().sum()}\")\n",
    "    \n",
    "    if total == 0:\n",
    "        print(\"no missing values left\")\n",
    "            \n",
    "missing_cols(diabetes)"
   ]
  },
  {
   "cell_type": "markdown",
   "id": "6f751bc3",
   "metadata": {},
   "source": [
    "### Splitting the data"
   ]
  },
  {
   "cell_type": "markdown",
   "id": "88e3248f",
   "metadata": {},
   "source": [
    "I have decided to not include the date in traing of the model. The main reason is because the assignment specified that the model takes the time and activity as the input.\n",
    "\n",
    "Another reason is because I don't believe that the glucose levels from 1990 and 2022 differ that much. Also, the dates in the data are about in a period of 3 years and I don't believe that the levels in that short period vary much."
   ]
  },
  {
   "cell_type": "code",
   "execution_count": 7,
   "id": "94d51f69",
   "metadata": {},
   "outputs": [],
   "source": [
    "train = diabetes.drop(['date', 'value'], axis=1)\n",
    "test = diabetes['value']"
   ]
  },
  {
   "cell_type": "code",
   "execution_count": 8,
   "id": "6ef14e02",
   "metadata": {},
   "outputs": [],
   "source": [
    "x_train, x_test, y_train, y_test = train_test_split(train, test, test_size = 0.3)"
   ]
  },
  {
   "cell_type": "markdown",
   "id": "54834790",
   "metadata": {},
   "source": [
    "### Training the model and testing with test data"
   ]
  },
  {
   "cell_type": "markdown",
   "id": "916157ed",
   "metadata": {},
   "source": [
    "Classification is used when you need to split the dataset into classes. For example \"spam or not spam\". Regression is used to find the correlations between dependent and independent variables. It used to predict, in our case predicit glucose levels.\n",
    "\n",
    "We will therefore use regression algorithms."
   ]
  },
  {
   "cell_type": "markdown",
   "id": "31648e8f",
   "metadata": {},
   "source": [
    "#### Linear Regression"
   ]
  },
  {
   "cell_type": "code",
   "execution_count": 9,
   "id": "321c695a",
   "metadata": {},
   "outputs": [],
   "source": [
    "lir = LinearRegression()"
   ]
  },
  {
   "cell_type": "code",
   "execution_count": 23,
   "id": "d3538659",
   "metadata": {},
   "outputs": [
    {
     "data": {
      "text/plain": [
       "0.4185471891368613"
      ]
     },
     "execution_count": 23,
     "metadata": {},
     "output_type": "execute_result"
    }
   ],
   "source": [
    "lir.fit(x_train, y_train)\n",
    "lir.score(x_test, y_test)"
   ]
  },
  {
   "cell_type": "markdown",
   "id": "29e73b5f",
   "metadata": {},
   "source": [
    "#### Random Forest Regression"
   ]
  },
  {
   "cell_type": "code",
   "execution_count": 24,
   "id": "809728fd",
   "metadata": {},
   "outputs": [
    {
     "data": {
      "text/plain": [
       "0.6377768796999517"
      ]
     },
     "execution_count": 24,
     "metadata": {},
     "output_type": "execute_result"
    }
   ],
   "source": [
    "rfr = RandomForestRegressor()\n",
    "rfr.fit(x_train, y_train)\n",
    "rfr.score(x_test, y_test)"
   ]
  },
  {
   "cell_type": "markdown",
   "id": "0e2951f2",
   "metadata": {},
   "source": [
    "#### K-nearest Neighbors Regression (KKN)"
   ]
  },
  {
   "cell_type": "code",
   "execution_count": 25,
   "id": "05a4fc00",
   "metadata": {},
   "outputs": [
    {
     "data": {
      "text/plain": [
       "0.6404824467883861"
      ]
     },
     "execution_count": 25,
     "metadata": {},
     "output_type": "execute_result"
    }
   ],
   "source": [
    "knn = KNeighborsRegressor(n_neighbors=6)\n",
    "knn.fit(x_train, y_train)\n",
    "knn.score(x_test, y_test)"
   ]
  },
  {
   "cell_type": "markdown",
   "id": "c879f4c9",
   "metadata": {},
   "source": [
    "#### Decision Tree Regression"
   ]
  },
  {
   "cell_type": "code",
   "execution_count": 26,
   "id": "0ba87264",
   "metadata": {},
   "outputs": [
    {
     "data": {
      "text/plain": [
       "0.6131425281668592"
      ]
     },
     "execution_count": 26,
     "metadata": {},
     "output_type": "execute_result"
    }
   ],
   "source": [
    "dtr = DecisionTreeRegressor()\n",
    "dtr.fit(x_train, y_train)\n",
    "dtr.score(x_test, y_test)"
   ]
  },
  {
   "cell_type": "markdown",
   "id": "72c74fb3",
   "metadata": {},
   "source": [
    "#### Support Vector Regression (SVR)"
   ]
  },
  {
   "cell_type": "code",
   "execution_count": 36,
   "id": "017460f3",
   "metadata": {},
   "outputs": [
    {
     "data": {
      "text/plain": [
       "0.6033985026851185"
      ]
     },
     "execution_count": 36,
     "metadata": {},
     "output_type": "execute_result"
    }
   ],
   "source": [
    "svm = svm.SVR()\n",
    "svm.fit(x_train, y_train)\n",
    "svm.score(x_test, y_test)"
   ]
  },
  {
   "cell_type": "markdown",
   "id": "52342f34",
   "metadata": {},
   "source": [
    "### Conclusion"
   ]
  },
  {
   "cell_type": "markdown",
   "id": "ecd08d76",
   "metadata": {},
   "source": [
    "The different algorithms have shown that all except SVR give about the same score. The lowest score was given by linear regression. The best perfomer was KNN Regression with Random Forest Regression as a close second.\n",
    "\n",
    "Linear Regression: 41.85 %\n",
    "\n",
    "Random Forest Regression: 63.77 %\n",
    "\n",
    "KNN Regression: 64.04 %\n",
    "\n",
    "Decision Tree Regression: 61.31 %\n",
    "\n",
    "SVR: 60.33 %\n",
    "\n",
    "The data cleaning process can be better. There are some glucose levels which are 0. That is not possible and must be some type of error. Also, after doing som research, levels below 15 are very very extreme and not really possible either.\n",
    "\n",
    "####  Ethical Implications \n",
    "\n",
    "With the data being numbers, you can easily forget that each reading is from a real person, with real life problems and real life implications if the models are deployed. If you can develope an accurate model, I still don't think it should be used in this case. Imagine an insurance company or bank using the model. They can increase the rate or interest rate if you are deemed \"risky\" just because of your glucose levels. It is an breach of privacy and ethically wrong, according to me. "
   ]
  }
 ],
 "metadata": {
  "kernelspec": {
   "display_name": "Python 3 (ipykernel)",
   "language": "python",
   "name": "python3"
  },
  "language_info": {
   "codemirror_mode": {
    "name": "ipython",
    "version": 3
   },
   "file_extension": ".py",
   "mimetype": "text/x-python",
   "name": "python",
   "nbconvert_exporter": "python",
   "pygments_lexer": "ipython3",
   "version": "3.9.7"
  }
 },
 "nbformat": 4,
 "nbformat_minor": 5
}
